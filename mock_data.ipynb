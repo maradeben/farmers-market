{
 "cells": [
  {
   "cell_type": "code",
   "execution_count": 1,
   "metadata": {},
   "outputs": [],
   "source": [
    "from backend.models.vendor import Vendor\n",
    "from backend.models.product import Product\n",
    "from backend.database import file_store\n",
    "import random\n",
    "random.seed(42)"
   ]
  },
  {
   "cell_type": "code",
   "execution_count": 2,
   "metadata": {},
   "outputs": [],
   "source": [
    "file_store.clear_storage()"
   ]
  },
  {
   "cell_type": "markdown",
   "metadata": {},
   "source": [
    "## Mock vendors"
   ]
  },
  {
   "cell_type": "code",
   "execution_count": 3,
   "metadata": {},
   "outputs": [],
   "source": [
    "# Vendor()"
   ]
  },
  {
   "cell_type": "code",
   "execution_count": 4,
   "metadata": {},
   "outputs": [],
   "source": [
    "# vendor1 = Vendor('1234', 'vend1@mail.com', 'Adiba', 'Rokos', 'adiroks', 'Oketu')\n",
    "# # print(vendor1)\n",
    "\n",
    "# props2 = {\n",
    "#     'phone': '333-444',\n",
    "#     'email': 'olubimu@ymail.com',\n",
    "#     'firstname': 'Ignition',\n",
    "#     'lastname': 'Engine',\n",
    "#     'username': 'enging',\n",
    "#     'location': 'Kuja'\n",
    "# }\n",
    "\n",
    "# vendor2 = Vendor(**props2)\n",
    "\n",
    "phones = ['123-456', '232-185', '858-991', '111-111', '999-124', '893-903', '444-555', '692-804', '182-233', '018-810']\n",
    "emails = ['amosgoodwill@ymail.com', 'bilua@starfarms.com', 'johnbull@ymail.com', 'chiakpan@fresh.com', 'ephman@cabmail.com',\\\n",
    "            'iyabodairo@cabmail.com', 'ahmad.h@coldmail.com', 'c.kingsley@kingsplace.com', 'georgeamara@ymail.com', 'wisdom@mailer.com']\n",
    "firstnames = ['Amos', 'Ilua', 'Bukola', 'Chinonso', 'Ephraim', 'Iyabode', 'Hamida', 'Kingsley', 'Amara', 'Wisdom']\n",
    "lastnames = ['Goodwill', 'Bilunde', 'Johnson', 'Akpan', 'Manasseh', 'Oludairo', 'Ahmad', 'Contan', 'Goerge', 'Greens']\n",
    "usernames = ['amogood', 'star_farmer', 'johns_b', 'apk_chi', 'theman', 'iyadairo', 'amida', 'kings', 'amaregeorge', 'GreenFarms']\n",
    "farmnames = ['Amos Farm', 'Star Farms', 'Johhny JC', 'Chi Fresh Produce', 'Ephraim&Manasseh', 'Dairo Poultry', \\\n",
    "                'Amida Farm', 'Kings Place', 'Animal Farm', 'Green Farms']\n",
    "locations = ['Abuja', 'Kogi', 'Ilorin', 'Ibadan', 'Nsukka', 'Benin', 'Otukpo', 'Ijebu', 'Suleja', 'Gombe']\n",
    "pswd='abc'\n",
    "\n",
    "ids = []\n",
    "for phone, email, fn, ln, un, farm, loc in zip(phones, emails, firstnames, lastnames, usernames, farmnames, locations):\n",
    "    rating = float(random.randint(3,5))\n",
    "    vend = Vendor(phone, email, fn, ln, un, farm, loc, rating, pswd)\n",
    "    ids.append(vend.id)"
   ]
  },
  {
   "cell_type": "code",
   "execution_count": 5,
   "metadata": {},
   "outputs": [
    {
     "data": {
      "text/plain": [
       "['d2366f15-ce6a-4e49-a694-3a58cbf1ec01',\n",
       " '31f4bce5-9d71-4d26-889f-c319f0941add',\n",
       " '0ae197ff-be2b-4270-b6a2-d72493f79d10',\n",
       " '8d70bc0e-cce4-483f-9731-b0384256370e',\n",
       " '27668390-8529-4658-8f58-b75cc3d0b152',\n",
       " 'a0c17cf5-600b-4200-af60-714b05aade43',\n",
       " '68670c32-ef5a-46ef-9985-cfa36fb7c8c9',\n",
       " 'dcf52016-7663-4db9-9382-d014a08aa04e',\n",
       " '931d1a70-1758-495d-907e-8b4205b08195',\n",
       " 'eebdc76c-6723-4bc3-82b2-f524ec8dd848']"
      ]
     },
     "execution_count": 5,
     "metadata": {},
     "output_type": "execute_result"
    }
   ],
   "source": [
    "ids"
   ]
  },
  {
   "cell_type": "code",
   "execution_count": 6,
   "metadata": {},
   "outputs": [
    {
     "data": {
      "text/plain": [
       "{'id': '31f4bce5-9d71-4d26-889f-c319f0941add',\n",
       " 'created_at': '2023-12-16T12:05:10.045962',\n",
       " 'rating': 3.0,\n",
       " 'num_ratings': 0,\n",
       " 'phone': '232-185',\n",
       " 'email': 'bilua@starfarms.com',\n",
       " 'firstname': 'Ilua',\n",
       " 'lastname': 'Bilunde',\n",
       " 'username': 'star_farmer',\n",
       " 'farmname': 'Star Farms',\n",
       " 'location': 'Kogi',\n",
       " 'object': 'Vendor',\n",
       " 'pswd': 'abc'}"
      ]
     },
     "execution_count": 6,
     "metadata": {},
     "output_type": "execute_result"
    }
   ],
   "source": [
    "file_store.save()\n",
    "vendor = file_store.get_single_vendor(ids[1])\n",
    "vendor"
   ]
  },
  {
   "cell_type": "code",
   "execution_count": 7,
   "metadata": {},
   "outputs": [
    {
     "data": {
      "text/plain": [
       "{'id': '31f4bce5-9d71-4d26-889f-c319f0941add',\n",
       " 'created_at': '2023-12-16T12:05:10.045962',\n",
       " 'rating': 3.0,\n",
       " 'num_ratings': 0,\n",
       " 'phone': '232-185',\n",
       " 'email': 'bilua@starfarms.com',\n",
       " 'firstname': 'Ilua',\n",
       " 'lastname': 'Bilunde',\n",
       " 'username': 'star_farmer',\n",
       " 'farmname': 'Star Farms',\n",
       " 'location': 'Kogi',\n",
       " 'object': 'Vendor',\n",
       " 'pswd': 'abc'}"
      ]
     },
     "execution_count": 7,
     "metadata": {},
     "output_type": "execute_result"
    }
   ],
   "source": [
    "vendor"
   ]
  },
  {
   "cell_type": "code",
   "execution_count": 8,
   "metadata": {},
   "outputs": [],
   "source": [
    "# file_store.save()"
   ]
  },
  {
   "cell_type": "markdown",
   "metadata": {},
   "source": [
    "## Mock products"
   ]
  },
  {
   "cell_type": "code",
   "execution_count": 9,
   "metadata": {},
   "outputs": [],
   "source": [
    "# dir(random)"
   ]
  },
  {
   "cell_type": "code",
   "execution_count": 10,
   "metadata": {},
   "outputs": [
    {
     "data": {
      "text/plain": [
       "5"
      ]
     },
     "execution_count": 10,
     "metadata": {},
     "output_type": "execute_result"
    }
   ],
   "source": [
    "random.randint(3,5)"
   ]
  },
  {
   "cell_type": "code",
   "execution_count": 12,
   "metadata": {},
   "outputs": [],
   "source": [
    "product_ids = []\n",
    "cats = {\n",
    "    \"Roots/Tubers\": ['Yam', 'Cocoa', 'Carrot', 'Potatoe', 'Cassava', 'Ginger', 'Turmeric', 'Turnip', 'Beetroot', 'Groundnut'],\n",
    "    \"Fruits/Vegetables\": ['Apple', 'Banana', 'Orange', 'Mango', 'Strawberry', 'Grapes', 'Avocado', 'Tomato', 'Watermelon', 'Peach',\\\n",
    "                            'Onion', 'Cucumber', 'Spinahch', 'Water leaf'],\n",
    "    \"Oils\": ['Olive oil', 'Canola Oil', 'Sunflower oil', \"Corn oil\", \"Peanut oil\", 'Vegetable oil', 'Groundnut oil'],\n",
    "    \"Meat/Poultry\": ['Chicken', 'Beef', 'Pork', 'Lamb', 'Turkey', 'Duck', 'Vension', 'Eggs', 'Goat', 'Rabbit'],\n",
    "    \"Grains\": ['Rice', 'Wheat', 'Corn', 'Barley', 'Oats', 'Millet', 'Rye']\n",
    "}\n",
    "\n",
    "for i in range(500):\n",
    "    cat = random.choice(list(cats.keys()))\n",
    "    # print(cat)\n",
    "    name = random.choice(cats[cat])\n",
    "    if cat == 'Roots/Tubers' or cat == 'Fruits/Vegetables':\n",
    "        price = random.randrange(800, 3000)\n",
    "        unit = 'unit'\n",
    "    if cat == 'Oils':\n",
    "        price = random.randrange(2000, 12000)\n",
    "        unit = 'litre'\n",
    "    if cat == 'Meat/Poultry':\n",
    "        price = random.randrange(2500, 15000)\n",
    "        unit = 'kg'\n",
    "    if cat == 'Grain':\n",
    "        price = random.randrange(8000, 85000)\n",
    "        unit = 'bag'\n",
    "    stock = random.randrange(15, 1000)\n",
    "    vendor_id = random.choice(ids)\n",
    "    rating = float(random.randint(3,5))\n",
    "    \n",
    "    product = Product(name, cat, price, unit, stock, vendor_id, rating)\n",
    "\n",
    "    product_ids.append(product.id)"
   ]
  },
  {
   "cell_type": "code",
   "execution_count": 13,
   "metadata": {},
   "outputs": [
    {
     "data": {
      "text/plain": [
       "{'id': 'fae92edf-0083-4acb-aba7-aaefe3785d0b',\n",
       " 'created_at': '2023-12-16T12:05:15.760154',\n",
       " 'name': 'Beetroot',\n",
       " 'category': 'Roots/Tubers',\n",
       " 'unit': 'unit',\n",
       " 'vendor_id': '931d1a70-1758-495d-907e-8b4205b08195',\n",
       " 'num_ratings': 0,\n",
       " 'location': 'Suleja',\n",
       " 'image_url': 'frontend/assets/images/product-images/default-product-image.jpg',\n",
       " 'object': 'Product',\n",
       " 'price': 1614,\n",
       " 'stock': 748,\n",
       " 'rating': 4.0}"
      ]
     },
     "execution_count": 13,
     "metadata": {},
     "output_type": "execute_result"
    }
   ],
   "source": [
    "file_store.save()\n",
    "product = file_store.get_single_product(product_ids[1])\n",
    "product"
   ]
  },
  {
   "cell_type": "code",
   "execution_count": null,
   "metadata": {},
   "outputs": [
    {
     "name": "stdout",
     "output_type": "stream",
     "text": [
      "{'a': 1, 'b': 2, 'c': 3}\n"
     ]
    }
   ],
   "source": [
    "def test(**kwargs):\n",
    "    print(kwargs)\n",
    "\n",
    "test(a=1, b=2, c=3)"
   ]
  }
 ],
 "metadata": {
  "kernelspec": {
   "display_name": "base",
   "language": "python",
   "name": "python3"
  },
  "language_info": {
   "codemirror_mode": {
    "name": "ipython",
    "version": 3
   },
   "file_extension": ".py",
   "mimetype": "text/x-python",
   "name": "python",
   "nbconvert_exporter": "python",
   "pygments_lexer": "ipython3",
   "version": "3.9.12"
  },
  "orig_nbformat": 4
 },
 "nbformat": 4,
 "nbformat_minor": 2
}
