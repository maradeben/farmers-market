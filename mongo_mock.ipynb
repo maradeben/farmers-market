{
 "cells": [
  {
   "cell_type": "code",
   "execution_count": 1,
   "metadata": {},
   "outputs": [],
   "source": [
    "from backend.models.vendor import register_vendor\n",
    "from backend.models.user import register_user\n",
    "from backend.models.product import register_product\n",
    "from backend.database.db_storage import storage_engine\n",
    "from backend.models.utils import hash_password\n",
    "from mongoengine.errors import NotUniqueError\n",
    "from pymongo.errors import DuplicateKeyError\n",
    "\n",
    "import mongoengine\n",
    "import random\n",
    "random.seed(42)"
   ]
  },
  {
   "cell_type": "code",
   "execution_count": null,
   "metadata": {},
   "outputs": [],
   "source": []
  },
  {
   "cell_type": "code",
   "execution_count": 2,
   "metadata": {},
   "outputs": [],
   "source": [
    "mongoengine.disconnect('core')\n",
    "storage_engine.close_connection()\n",
    "storage_engine.connect()\n",
    "# storage_engine.clear_storage()"
   ]
  },
  {
   "cell_type": "markdown",
   "metadata": {},
   "source": [
    "## Mock Users"
   ]
  },
  {
   "cell_type": "code",
   "execution_count": 4,
   "metadata": {},
   "outputs": [
    {
     "ename": "ValidationError",
     "evalue": "ValidationError (User:None) (Field is required: ['email', 'firstname', 'lastname', 'password'])",
     "output_type": "error",
     "traceback": [
      "\u001b[0;31m---------------------------------------------------------------------------\u001b[0m",
      "\u001b[0;31mValidationError\u001b[0m                           Traceback (most recent call last)",
      "Cell \u001b[0;32mIn[4], line 1\u001b[0m\n\u001b[0;32m----> 1\u001b[0m user \u001b[39m=\u001b[39m register_user()\n",
      "File \u001b[0;32m~/Documents/ALX-SE/Specialization/farmers-market/backend/models/user.py:46\u001b[0m, in \u001b[0;36mregister_user\u001b[0;34m(**kwargs)\u001b[0m\n\u001b[1;32m     44\u001b[0m user \u001b[39m=\u001b[39m User(\u001b[39m*\u001b[39m\u001b[39m*\u001b[39mkwargs)\n\u001b[1;32m     45\u001b[0m \u001b[39mtry\u001b[39;00m:\n\u001b[0;32m---> 46\u001b[0m     user\u001b[39m.\u001b[39;49msave()\n\u001b[1;32m     47\u001b[0m \u001b[39mexcept\u001b[39;00m(DuplicateKeyError, NotUniqueError):\n\u001b[1;32m     48\u001b[0m     profile \u001b[39m=\u001b[39m Vendor\u001b[39m.\u001b[39mobjects(email\u001b[39m=\u001b[39mkwargs[\u001b[39m'\u001b[39m\u001b[39memail\u001b[39m\u001b[39m'\u001b[39m])\n",
      "File \u001b[0;32m~/anaconda3/lib/python3.9/site-packages/mongoengine/document.py:399\u001b[0m, in \u001b[0;36mDocument.save\u001b[0;34m(self, force_insert, validate, clean, write_concern, cascade, cascade_kwargs, _refs, save_condition, signal_kwargs, **kwargs)\u001b[0m\n\u001b[1;32m    396\u001b[0m signals\u001b[39m.\u001b[39mpre_save\u001b[39m.\u001b[39msend(\u001b[39mself\u001b[39m\u001b[39m.\u001b[39m\u001b[39m__class__\u001b[39m, document\u001b[39m=\u001b[39m\u001b[39mself\u001b[39m, \u001b[39m*\u001b[39m\u001b[39m*\u001b[39msignal_kwargs)\n\u001b[1;32m    398\u001b[0m \u001b[39mif\u001b[39;00m validate:\n\u001b[0;32m--> 399\u001b[0m     \u001b[39mself\u001b[39;49m\u001b[39m.\u001b[39;49mvalidate(clean\u001b[39m=\u001b[39;49mclean)\n\u001b[1;32m    401\u001b[0m \u001b[39mif\u001b[39;00m write_concern \u001b[39mis\u001b[39;00m \u001b[39mNone\u001b[39;00m:\n\u001b[1;32m    402\u001b[0m     write_concern \u001b[39m=\u001b[39m {}\n",
      "File \u001b[0;32m~/anaconda3/lib/python3.9/site-packages/mongoengine/base/document.py:438\u001b[0m, in \u001b[0;36mBaseDocument.validate\u001b[0;34m(self, clean)\u001b[0m\n\u001b[1;32m    436\u001b[0m     pk \u001b[39m=\u001b[39m \u001b[39mself\u001b[39m\u001b[39m.\u001b[39m_instance\u001b[39m.\u001b[39mpk\n\u001b[1;32m    437\u001b[0m message \u001b[39m=\u001b[39m \u001b[39mf\u001b[39m\u001b[39m\"\u001b[39m\u001b[39mValidationError (\u001b[39m\u001b[39m{\u001b[39;00m\u001b[39mself\u001b[39m\u001b[39m.\u001b[39m_class_name\u001b[39m}\u001b[39;00m\u001b[39m:\u001b[39m\u001b[39m{\u001b[39;00mpk\u001b[39m}\u001b[39;00m\u001b[39m) \u001b[39m\u001b[39m\"\u001b[39m\n\u001b[0;32m--> 438\u001b[0m \u001b[39mraise\u001b[39;00m ValidationError(message, errors\u001b[39m=\u001b[39merrors)\n",
      "\u001b[0;31mValidationError\u001b[0m: ValidationError (User:None) (Field is required: ['email', 'firstname', 'lastname', 'password'])"
     ]
    }
   ],
   "source": [
    "user = register_user()"
   ]
  },
  {
   "cell_type": "code",
   "execution_count": 3,
   "metadata": {},
   "outputs": [],
   "source": [
    "phones = ['123-456', '232-185', '858-991', '111-111', '999-124', '893-903', '444-555', '692-804', '182-233', '018-810']\n",
    "\n",
    "firstnames = ['Amos', 'Ilua', 'Bukola', 'Chinonso', 'Ephraim', 'Iyabode', 'Hamida', 'Kingsley', 'Amara', 'Wisdom', 'Ogbonna',\\\n",
    "                'Akpan' 'Ibrahim', 'Suliat', 'Idris', 'Ciroma', 'Yoanna', 'Simbi', 'Idris', 'Glob', 'Matthew', 'Shuga',\\\n",
    "                    'Olusegun', 'Amadilo', 'Tunbi', 'Johsnon', 'Faith', 'Peace', 'Olaide', 'Gift']\n",
    "lastnames = ['Goodwill', 'Bilunde', 'Johnson', 'Akpan', 'Manasseh', 'Oludairo', 'Ahmad', 'Contan', 'Goerge', 'Greens', 'Godwin',\\\n",
    "                'Baba', 'Muhammad', 'Olaifa', 'Adamu', 'Chukwuma', 'Justin', 'Atah', 'Ondase', 'Bob', 'Luke', 'Honda',\\\n",
    "                    'Oladale', 'Leprang', 'Agagu', 'Ibeh', 'Idris', 'Charity', 'Adedeji', 'Kehinde']\n",
    "emails = ['amosgoodwill@ymail.com', 'bilua@starfarms.com', 'johnbull@ymail.com', 'chiakpan@fresh.com', 'ephman@cabmail.com',\\\n",
    "            'iyabodairo@cabmail.com', 'ahmad.h@coldmail.com', 'c.kingsley@kingsplace.com', 'georgeamara@ymail.com', 'wisdom@mailer.com',\\\n",
    "                'ogboy@ymail.com', 'baba@mymail.com', 'mubi@amail.com', 'suliatifa@cabmail.com', 'adams_id@mail.com', 'ceesxy232@mail.com',\\\n",
    "                    'yojustin@ymail.com', 'atam1998@cabmail.com', 'ondase112@ymail.com', 'globob@mail.com', 'disciple@ymail.com',\\\n",
    "                        'hondaman22@cabmail.com', 'olasegum@mail.com', 'amadilo.lebrang@ymail.com', 'ogaagagu@mail.com', 'chukwujohnson@mail.com',\\\n",
    "                            'idrisfatih@maloo.com', 'chartiyispeace@cabmail.com', 'olaideade@mail.com', 'kehinde.gift@ymail.com']\n",
    "\n",
    "usernames = ['amogood', 'star_farmer', 'johns_b', 'apk_chi', 'theman', 'iyadairo', 'amida', 'kings', 'amaregeorge', 'GreenFarms']\n",
    "farmnames = ['Amos Farm', 'Star Farms', 'Johhny JC', 'Chi Fresh Produce', 'Ephraim&Manasseh', 'Dairo Poultry', \\\n",
    "                'Amida Farm', 'Kings Place', 'Animal Farm', 'Green Farms']\n",
    "locations = ['Abuja', 'Kogi', 'Ilorin', 'Ibadan', 'Nsukka', 'Benin', 'Otukpo', 'Ijebu', 'Suleja', 'Gombe']"
   ]
  },
  {
   "cell_type": "code",
   "execution_count": 4,
   "metadata": {},
   "outputs": [],
   "source": [
    "mocked_users = []\n",
    "\n",
    "for email, first, last in zip(emails, firstnames, lastnames):\n",
    "    try:\n",
    "        user = register_user(\n",
    "            **{\n",
    "                \"email\": email,\n",
    "                \"firstname\": first,\n",
    "                \"lastname\": last,\n",
    "                \"password\": hash_password(\"abc\")\n",
    "            }\n",
    "        )\n",
    "    except (DuplicateKeyError, NotUniqueError):\n",
    "        continue\n",
    "    mocked_users.append(user)"
   ]
  },
  {
   "cell_type": "markdown",
   "metadata": {},
   "source": [
    "## Mock vendors"
   ]
  },
  {
   "cell_type": "code",
   "execution_count": 7,
   "metadata": {},
   "outputs": [
    {
     "ename": "KeyError",
     "evalue": "'email'",
     "output_type": "error",
     "traceback": [
      "\u001b[0;31m---------------------------------------------------------------------------\u001b[0m",
      "\u001b[0;31mKeyError\u001b[0m                                  Traceback (most recent call last)",
      "Cell \u001b[0;32mIn[7], line 1\u001b[0m\n\u001b[0;32m----> 1\u001b[0m register_vendor()\n",
      "File \u001b[0;32m~/Documents/ALX-SE/Specialization/farmers-market/backend/models/vendor.py:44\u001b[0m, in \u001b[0;36mregister_vendor\u001b[0;34m(**kwargs)\u001b[0m\n\u001b[1;32m     42\u001b[0m \u001b[39mdef\u001b[39;00m \u001b[39mregister_vendor\u001b[39m(\u001b[39m*\u001b[39m\u001b[39m*\u001b[39mkwargs):\n\u001b[1;32m     43\u001b[0m \u001b[39m    \u001b[39m\u001b[39m\"\"\" handle converting of a User to a Vendor \"\"\"\u001b[39;00m\n\u001b[0;32m---> 44\u001b[0m     user_profile \u001b[39m=\u001b[39m User\u001b[39m.\u001b[39mobjects(_cls\u001b[39m=\u001b[39m\u001b[39m\"\u001b[39m\u001b[39mUser\u001b[39m\u001b[39m\"\u001b[39m, email\u001b[39m=\u001b[39mkwargs[\u001b[39m'\u001b[39;49m\u001b[39memail\u001b[39;49m\u001b[39m'\u001b[39;49m])\u001b[39m.\u001b[39mfirst()\n\u001b[1;32m     45\u001b[0m     \u001b[39mif\u001b[39;00m user_profile:\n\u001b[1;32m     46\u001b[0m         \u001b[39mtry\u001b[39;00m:\n",
      "\u001b[0;31mKeyError\u001b[0m: 'email'"
     ]
    }
   ],
   "source": [
    "register_vendor()"
   ]
  },
  {
   "cell_type": "code",
   "execution_count": 5,
   "metadata": {},
   "outputs": [
    {
     "ename": "NameError",
     "evalue": "name 'datetime' is not defined",
     "output_type": "error",
     "traceback": [
      "\u001b[0;31m---------------------------------------------------------------------------\u001b[0m",
      "\u001b[0;31mNameError\u001b[0m                                 Traceback (most recent call last)",
      "Cell \u001b[0;32mIn[5], line 5\u001b[0m\n\u001b[1;32m      3\u001b[0m rating \u001b[39m=\u001b[39m \u001b[39mfloat\u001b[39m(random\u001b[39m.\u001b[39mrandint(\u001b[39m3\u001b[39m,\u001b[39m5\u001b[39m))\n\u001b[1;32m      4\u001b[0m \u001b[39mtry\u001b[39;00m:\n\u001b[0;32m----> 5\u001b[0m     vendor \u001b[39m=\u001b[39m register_vendor(\n\u001b[1;32m      6\u001b[0m         \u001b[39m*\u001b[39;49m\u001b[39m*\u001b[39;49m{\n\u001b[1;32m      7\u001b[0m             \u001b[39m\"\u001b[39;49m\u001b[39memail\u001b[39;49m\u001b[39m\"\u001b[39;49m: email,\n\u001b[1;32m      8\u001b[0m             \u001b[39m\"\u001b[39;49m\u001b[39mfarmname\u001b[39;49m\u001b[39m\"\u001b[39;49m: farm,\n\u001b[1;32m      9\u001b[0m             \u001b[39m\"\u001b[39;49m\u001b[39mlocation\u001b[39;49m\u001b[39m\"\u001b[39;49m: loc\n\u001b[1;32m     10\u001b[0m         }\n\u001b[1;32m     11\u001b[0m     )\n\u001b[1;32m     12\u001b[0m \u001b[39mexcept\u001b[39;00m (DuplicateKeyError, NotUniqueError):\n\u001b[1;32m     13\u001b[0m     \u001b[39mcontinue\u001b[39;00m\n",
      "File \u001b[0;32m~/Documents/ALX-SE/Specialization/farmers-market/backend/models/vendor.py:51\u001b[0m, in \u001b[0;36mregister_vendor\u001b[0;34m(**kwargs)\u001b[0m\n\u001b[1;32m     49\u001b[0m user_details \u001b[39m=\u001b[39m json\u001b[39m.\u001b[39mloads(user_profile\u001b[39m.\u001b[39mto_json())\n\u001b[1;32m     50\u001b[0m \u001b[39m# don't reset created at, save the same created date\u001b[39;00m\n\u001b[0;32m---> 51\u001b[0m created_at \u001b[39m=\u001b[39m datetime\u001b[39m.\u001b[39mdatetime\u001b[39m.\u001b[39mutcfromtimestamp(\n\u001b[1;32m     52\u001b[0m                 user_details\u001b[39m.\u001b[39mpop(\u001b[39m'\u001b[39m\u001b[39mcreated_at\u001b[39m\u001b[39m'\u001b[39m)[\u001b[39m'\u001b[39m\u001b[39m$date\u001b[39m\u001b[39m'\u001b[39m]\u001b[39m/\u001b[39m\u001b[39m1000\u001b[39m)\n\u001b[1;32m     53\u001b[0m \u001b[39m# print(type(created_at), created_at)\u001b[39;00m\n\u001b[1;32m     54\u001b[0m vendor \u001b[39m=\u001b[39m Vendor(\u001b[39m*\u001b[39m\u001b[39m*\u001b[39muser_details)\n",
      "\u001b[0;31mNameError\u001b[0m: name 'datetime' is not defined"
     ]
    }
   ],
   "source": [
    "vendors = []\n",
    "for email,loc, farm in zip(emails[:10], locations[:10], farmnames[:10]):\n",
    "    rating = float(random.randint(3,5))\n",
    "    try:\n",
    "        vendor = register_vendor(\n",
    "            **{\n",
    "                \"email\": email,\n",
    "                \"farmname\": farm,\n",
    "                \"location\": loc\n",
    "            }\n",
    "        )\n",
    "    except (DuplicateKeyError, NotUniqueError):\n",
    "        continue\n",
    "\n",
    "    vendors.append(vendor)"
   ]
  },
  {
   "cell_type": "code",
   "execution_count": 12,
   "metadata": {},
   "outputs": [
    {
     "data": {
      "text/plain": [
       "'johnbull@ymail.com'"
      ]
     },
     "execution_count": 12,
     "metadata": {},
     "output_type": "execute_result"
    }
   ],
   "source": [
    "ids[1].email"
   ]
  },
  {
   "cell_type": "code",
   "execution_count": 14,
   "metadata": {},
   "outputs": [
    {
     "name": "stdout",
     "output_type": "stream",
     "text": [
      "Vendor object\n"
     ]
    }
   ],
   "source": [
    "print(Vendor.objects(email = ids[1].email).first())"
   ]
  },
  {
   "cell_type": "markdown",
   "metadata": {},
   "source": [
    "## Mock Products"
   ]
  },
  {
   "cell_type": "code",
   "execution_count": 17,
   "metadata": {},
   "outputs": [
    {
     "name": "stdout",
     "output_type": "stream",
     "text": [
      "Product error: This product exists\n"
     ]
    }
   ],
   "source": [
    "products = []\n",
    "cats = {\n",
    "    \"Roots/Tubers\": ['Yam', 'Cocoa', 'Carrot', 'Potatoe', 'Cassava', 'Ginger', 'Turmeric', 'Turnip', 'Beetroot', 'Groundnut'],\n",
    "    \"Fruits/Vegetables\": ['Apple', 'Banana', 'Orange', 'Mango', 'Strawberry', 'Grapes', 'Avocado', 'Tomato', 'Watermelon', 'Peach',\\\n",
    "                            'Onion', 'Cucumber', 'Spinahch', 'Water leaf'],\n",
    "    \"Oils\": ['Olive oil', 'Canola Oil', 'Sunflower oil', \"Corn oil\", \"Peanut oil\", 'Vegetable oil', 'Groundnut oil'],\n",
    "    \"Meat/Poultry\": ['Chicken', 'Beef', 'Pork', 'Lamb', 'Turkey', 'Duck', 'Vension', 'Eggs', 'Goat', 'Rabbit'],\n",
    "    \"Grains\": ['Rice', 'Wheat', 'Corn', 'Barley', 'Oats', 'Millet', 'Rye']\n",
    "}\n",
    "\n",
    "for i in range(500):\n",
    "    cat = random.choice(list(cats.keys()))\n",
    "    # print(cat)\n",
    "    name = random.choice(cats[cat])\n",
    "    if cat == 'Roots/Tubers' or cat == 'Fruits/Vegetables':\n",
    "        price = random.randrange(800, 3000)\n",
    "        unit = 'unit'\n",
    "    if cat == 'Oils':\n",
    "        price = random.randrange(2000, 12000)\n",
    "        unit = 'litre'\n",
    "    if cat == 'Meat/Poultry':\n",
    "        price = random.randrange(2500, 15000)\n",
    "        unit = 'kg'\n",
    "    if cat == 'Grain':\n",
    "        price = random.randrange(8000, 85000)\n",
    "        unit = 'bag'\n",
    "    stock = random.randrange(15, 1000)\n",
    "    vendor = random.choice(ids) # ids actually contain vendor objects\n",
    "    rating = float(random.randint(3,5))\n",
    "    \n",
    "    # product = Product(name, cat, price, unit, stock, vendor_id, rating)\n",
    "    product = product_create_save(\n",
    "        **{\n",
    "        \"name\": name,\n",
    "        \"category\": cat,\n",
    "        \"unit\": unit,\n",
    "        \"vendor\": Vendor.objects(email=vendor.email).first(),\n",
    "        \"num_ratings\": 0,\n",
    "        \"image_url\": [\"frontend/assets/images/product-images/default-product-image.jpg\"],\n",
    "        \"price\": price,\n",
    "        \"stock\": stock,\n",
    "        \"rating\": rating\n",
    "    }\n",
    "    )\n",
    "\n",
    "    products.append(product.id)"
   ]
  }
 ],
 "metadata": {
  "kernelspec": {
   "display_name": "base",
   "language": "python",
   "name": "python3"
  },
  "language_info": {
   "codemirror_mode": {
    "name": "ipython",
    "version": 3
   },
   "file_extension": ".py",
   "mimetype": "text/x-python",
   "name": "python",
   "nbconvert_exporter": "python",
   "pygments_lexer": "ipython3",
   "version": "3.9.12"
  },
  "orig_nbformat": 4
 },
 "nbformat": 4,
 "nbformat_minor": 2
}
