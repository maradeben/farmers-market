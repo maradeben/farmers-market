{
 "cells": [
  {
   "cell_type": "code",
   "execution_count": 10,
   "metadata": {},
   "outputs": [],
   "source": [
    "from backend.models.vendor import Vendor\n",
    "from backend.models.product import Product, product_create_save\n",
    "from backend.database.db_storage import storage_engine\n",
    "from backend.models.utils import hash_password\n",
    "from mongoengine.errors import NotUniqueError\n",
    "from pymongo.errors import DuplicateKeyError\n",
    "\n",
    "import mongoengine\n",
    "import random\n",
    "random.seed(42)"
   ]
  },
  {
   "cell_type": "code",
   "execution_count": null,
   "metadata": {},
   "outputs": [],
   "source": []
  },
  {
   "cell_type": "code",
   "execution_count": 6,
   "metadata": {},
   "outputs": [
    {
     "ename": "ConnectionFailure",
     "evalue": "A different connection with alias `default` was already registered. Use disconnect() first",
     "output_type": "error",
     "traceback": [
      "\u001b[0;31m---------------------------------------------------------------------------\u001b[0m",
      "\u001b[0;31mConnectionFailure\u001b[0m                         Traceback (most recent call last)",
      "Cell \u001b[0;32mIn[6], line 4\u001b[0m\n\u001b[1;32m      2\u001b[0m storage_engine\u001b[39m.\u001b[39mclose_connection()\n\u001b[1;32m      3\u001b[0m storage_engine\u001b[39m.\u001b[39mconnect()\n\u001b[0;32m----> 4\u001b[0m storage_engine\u001b[39m.\u001b[39;49mclear_storage()\n",
      "File \u001b[0;32m~/Documents/ALX-SE/Specialization/farmers-market/backend/database/db_storage.py:39\u001b[0m, in \u001b[0;36mDBStorage.clear_storage\u001b[0;34m(cls)\u001b[0m\n\u001b[1;32m     37\u001b[0m \u001b[39m\u001b[39m\u001b[39m\"\"\" clear the database \"\"\"\u001b[39;00m\n\u001b[1;32m     38\u001b[0m mongoengine\u001b[39m.\u001b[39mdisconnect(alias\u001b[39m=\u001b[39m\u001b[39m'\u001b[39m\u001b[39mcore\u001b[39m\u001b[39m'\u001b[39m)\n\u001b[0;32m---> 39\u001b[0m \u001b[39mcls\u001b[39;49m\u001b[39m.\u001b[39;49mconnect()  \u001b[39m# reconnect if needed\u001b[39;00m\n\u001b[1;32m     40\u001b[0m mongoengine\u001b[39m.\u001b[39mconnection\u001b[39m.\u001b[39mget_connection()\u001b[39m.\u001b[39mdrop_database(\u001b[39mcls\u001b[39m\u001b[39m.\u001b[39mdb_name)\n\u001b[1;32m     41\u001b[0m \u001b[39mcls\u001b[39m\u001b[39m.\u001b[39mclose_connection()\n",
      "File \u001b[0;32m~/Documents/ALX-SE/Specialization/farmers-market/backend/database/db_storage.py:29\u001b[0m, in \u001b[0;36mDBStorage.connect\u001b[0;34m(cls)\u001b[0m\n\u001b[1;32m     26\u001b[0m \u001b[39m@classmethod\u001b[39m\n\u001b[1;32m     27\u001b[0m \u001b[39mdef\u001b[39;00m \u001b[39mconnect\u001b[39m(\u001b[39mcls\u001b[39m):\n\u001b[1;32m     28\u001b[0m     mongoengine\u001b[39m.\u001b[39mregister_connection(alias\u001b[39m=\u001b[39m\u001b[39m'\u001b[39m\u001b[39mdefault\u001b[39m\u001b[39m'\u001b[39m, name\u001b[39m=\u001b[39m\u001b[39mcls\u001b[39m\u001b[39m.\u001b[39mdb_name, host\u001b[39m=\u001b[39m\u001b[39mcls\u001b[39m\u001b[39m.\u001b[39mhost, port\u001b[39m=\u001b[39m\u001b[39mcls\u001b[39m\u001b[39m.\u001b[39mport)\n\u001b[0;32m---> 29\u001b[0m     mongoengine\u001b[39m.\u001b[39;49mconnect(\u001b[39mcls\u001b[39;49m\u001b[39m.\u001b[39;49mdb_name, alias\u001b[39m=\u001b[39;49m\u001b[39m'\u001b[39;49m\u001b[39mdefault\u001b[39;49m\u001b[39m'\u001b[39;49m)\n",
      "File \u001b[0;32m~/anaconda3/lib/python3.9/site-packages/mongoengine/connection.py:434\u001b[0m, in \u001b[0;36mconnect\u001b[0;34m(db, alias, **kwargs)\u001b[0m\n\u001b[1;32m    429\u001b[0m     \u001b[39mif\u001b[39;00m new_conn_settings \u001b[39m!=\u001b[39m prev_conn_setting:\n\u001b[1;32m    430\u001b[0m         err_msg \u001b[39m=\u001b[39m (\n\u001b[1;32m    431\u001b[0m             \u001b[39m\"\u001b[39m\u001b[39mA different connection with alias `\u001b[39m\u001b[39m{}\u001b[39;00m\u001b[39m` was already \u001b[39m\u001b[39m\"\u001b[39m\n\u001b[1;32m    432\u001b[0m             \u001b[39m\"\u001b[39m\u001b[39mregistered. Use disconnect() first\u001b[39m\u001b[39m\"\u001b[39m\n\u001b[1;32m    433\u001b[0m         )\u001b[39m.\u001b[39mformat(alias)\n\u001b[0;32m--> 434\u001b[0m         \u001b[39mraise\u001b[39;00m ConnectionFailure(err_msg)\n\u001b[1;32m    435\u001b[0m \u001b[39melse\u001b[39;00m:\n\u001b[1;32m    436\u001b[0m     register_connection(alias, db, \u001b[39m*\u001b[39m\u001b[39m*\u001b[39mkwargs)\n",
      "\u001b[0;31mConnectionFailure\u001b[0m: A different connection with alias `default` was already registered. Use disconnect() first"
     ]
    }
   ],
   "source": [
    "mongoengine.disconnect('core')\n",
    "storage_engine.close_connection()\n",
    "storage_engine.connect()\n",
    "storage_engine.clear_storage()"
   ]
  },
  {
   "cell_type": "markdown",
   "metadata": {},
   "source": [
    "## Mock Vendors"
   ]
  },
  {
   "cell_type": "code",
   "execution_count": 11,
   "metadata": {},
   "outputs": [],
   "source": [
    "phones = ['123-456', '232-185', '858-991', '111-111', '999-124', '893-903', '444-555', '692-804', '182-233', '018-810']\n",
    "emails = ['amosgoodwill@ymail.com', 'bilua@starfarms.com', 'johnbull@ymail.com', 'chiakpan@fresh.com', 'ephman@cabmail.com',\\\n",
    "            'iyabodairo@cabmail.com', 'ahmad.h@coldmail.com', 'c.kingsley@kingsplace.com', 'georgeamara@ymail.com', 'wisdom@mailer.com']\n",
    "firstnames = ['Amos', 'Ilua', 'Bukola', 'Chinonso', 'Ephraim', 'Iyabode', 'Hamida', 'Kingsley', 'Amara', 'Wisdom']\n",
    "lastnames = ['Goodwill', 'Bilunde', 'Johnson', 'Akpan', 'Manasseh', 'Oludairo', 'Ahmad', 'Contan', 'Goerge', 'Greens']\n",
    "usernames = ['amogood', 'star_farmer', 'johns_b', 'apk_chi', 'theman', 'iyadairo', 'amida', 'kings', 'amaregeorge', 'GreenFarms']\n",
    "farmnames = ['Amos Farm', 'Star Farms', 'Johhny JC', 'Chi Fresh Produce', 'Ephraim&Manasseh', 'Dairo Poultry', \\\n",
    "                'Amida Farm', 'Kings Place', 'Animal Farm', 'Green Farms']\n",
    "locations = ['Abuja', 'Kogi', 'Ilorin', 'Ibadan', 'Nsukka', 'Benin', 'Otukpo', 'Ijebu', 'Suleja', 'Gombe']\n",
    "pswd='abc'\n",
    "\n",
    "ids = []\n",
    "for phone, email, fn, ln, un, farm, loc in zip(phones, emails, firstnames, lastnames, usernames, farmnames, locations):\n",
    "    rating = float(random.randint(3,5))\n",
    "    try:\n",
    "        vend = Vendor(\n",
    "            **{\n",
    "                \"rating\": rating,\n",
    "                \"num_ratings\": 0,\n",
    "                \"phone\": phone,\n",
    "                \"email\": email,\n",
    "                \"firstname\": fn,\n",
    "                \"lastname\": ln,\n",
    "                \"username\": un,\n",
    "                \"farmname\": farm,\n",
    "                \"location\": loc,\n",
    "                \"password\": hash_password(\"abc\")\n",
    "            }\n",
    "        )\n",
    "    except (DuplicateKeyError, NotUniqueError):\n",
    "        continue\n",
    "\n",
    "    ids.append(vend)b"
   ]
  },
  {
   "cell_type": "code",
   "execution_count": 12,
   "metadata": {},
   "outputs": [
    {
     "data": {
      "text/plain": [
       "'johnbull@ymail.com'"
      ]
     },
     "execution_count": 12,
     "metadata": {},
     "output_type": "execute_result"
    }
   ],
   "source": [
    "ids[1].email"
   ]
  },
  {
   "cell_type": "code",
   "execution_count": 14,
   "metadata": {},
   "outputs": [
    {
     "name": "stdout",
     "output_type": "stream",
     "text": [
      "Vendor object\n"
     ]
    }
   ],
   "source": [
    "print(Vendor.objects(email = ids[1].email).first())"
   ]
  },
  {
   "cell_type": "markdown",
   "metadata": {},
   "source": [
    "## Mock Products"
   ]
  },
  {
   "cell_type": "code",
   "execution_count": 17,
   "metadata": {},
   "outputs": [
    {
     "name": "stdout",
     "output_type": "stream",
     "text": [
      "Product error: This product exists\n"
     ]
    }
   ],
   "source": [
    "products = []\n",
    "cats = {\n",
    "    \"Roots/Tubers\": ['Yam', 'Cocoa', 'Carrot', 'Potatoe', 'Cassava', 'Ginger', 'Turmeric', 'Turnip', 'Beetroot', 'Groundnut'],\n",
    "    \"Fruits/Vegetables\": ['Apple', 'Banana', 'Orange', 'Mango', 'Strawberry', 'Grapes', 'Avocado', 'Tomato', 'Watermelon', 'Peach',\\\n",
    "                            'Onion', 'Cucumber', 'Spinahch', 'Water leaf'],\n",
    "    \"Oils\": ['Olive oil', 'Canola Oil', 'Sunflower oil', \"Corn oil\", \"Peanut oil\", 'Vegetable oil', 'Groundnut oil'],\n",
    "    \"Meat/Poultry\": ['Chicken', 'Beef', 'Pork', 'Lamb', 'Turkey', 'Duck', 'Vension', 'Eggs', 'Goat', 'Rabbit'],\n",
    "    \"Grains\": ['Rice', 'Wheat', 'Corn', 'Barley', 'Oats', 'Millet', 'Rye']\n",
    "}\n",
    "\n",
    "for i in range(500):\n",
    "    cat = random.choice(list(cats.keys()))\n",
    "    # print(cat)\n",
    "    name = random.choice(cats[cat])\n",
    "    if cat == 'Roots/Tubers' or cat == 'Fruits/Vegetables':\n",
    "        price = random.randrange(800, 3000)\n",
    "        unit = 'unit'\n",
    "    if cat == 'Oils':\n",
    "        price = random.randrange(2000, 12000)\n",
    "        unit = 'litre'\n",
    "    if cat == 'Meat/Poultry':\n",
    "        price = random.randrange(2500, 15000)\n",
    "        unit = 'kg'\n",
    "    if cat == 'Grain':\n",
    "        price = random.randrange(8000, 85000)\n",
    "        unit = 'bag'\n",
    "    stock = random.randrange(15, 1000)\n",
    "    vendor = random.choice(ids) # ids actually contain vendor objects\n",
    "    rating = float(random.randint(3,5))\n",
    "    \n",
    "    # product = Product(name, cat, price, unit, stock, vendor_id, rating)\n",
    "    product = product_create_save(\n",
    "        **{\n",
    "        \"name\": name,\n",
    "        \"category\": cat,\n",
    "        \"unit\": unit,\n",
    "        \"vendor\": Vendor.objects(email=vendor.email).first(),\n",
    "        \"num_ratings\": 0,\n",
    "        \"image_url\": [\"frontend/assets/images/product-images/default-product-image.jpg\"],\n",
    "        \"price\": price,\n",
    "        \"stock\": stock,\n",
    "        \"rating\": rating\n",
    "    }\n",
    "    )\n",
    "\n",
    "    products.append(product.id)"
   ]
  }
 ],
 "metadata": {
  "kernelspec": {
   "display_name": "base",
   "language": "python",
   "name": "python3"
  },
  "language_info": {
   "codemirror_mode": {
    "name": "ipython",
    "version": 3
   },
   "file_extension": ".py",
   "mimetype": "text/x-python",
   "name": "python",
   "nbconvert_exporter": "python",
   "pygments_lexer": "ipython3",
   "version": "3.9.12"
  },
  "orig_nbformat": 4
 },
 "nbformat": 4,
 "nbformat_minor": 2
}
